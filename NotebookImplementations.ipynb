{
 "cells": [
  {
   "cell_type": "code",
   "execution_count": null,
   "metadata": {},
   "outputs": [],
   "source": [
    "%load_ext autoreload\n",
    "%autoreload 2"
   ]
  },
  {
   "cell_type": "code",
   "execution_count": null,
   "metadata": {},
   "outputs": [],
   "source": [
    "import torch\n",
    "import torchvision\n",
    "import torchvision.transforms as transforms\n",
    "from tqdm import tqdm_notebook as tqdm\n",
    "transform = transforms.Compose(\n",
    "    [transforms.ToTensor(),\n",
    "     transforms.Normalize((0.5, 0.5, 0.5), (0.5, 0.5, 0.5))])\n",
    "\n",
    "trainset = torchvision.datasets.CIFAR10(root='./data', train=True,\n",
    "                                        download=True, transform=transform)\n",
    "trainloader = torch.utils.data.DataLoader(trainset, batch_size=4,\n",
    "                                          shuffle=True, num_workers=0)\n",
    "\n",
    "testset = torchvision.datasets.CIFAR10(root='./data', train=False,\n",
    "                                       download=True, transform=transform)\n",
    "testloader = torch.utils.data.DataLoader(testset, batch_size=4,\n",
    "                                         shuffle=False, num_workers=0)\n",
    "\n",
    "classes = ('plane', 'car', 'bird', 'cat',\n",
    "           'deer', 'dog', 'frog', 'horse', 'ship', 'truck')"
   ]
  },
  {
   "cell_type": "code",
   "execution_count": null,
   "metadata": {},
   "outputs": [],
   "source": [
    "import torch.nn as nn\n",
    "import torch.nn.functional as F\n",
    "import torch.optim as optim\n",
    "\n",
    "class Net(nn.Module):\n",
    "    def __init__(self):\n",
    "        super(Net, self).__init__()\n",
    "        self.conv1 = nn.Conv2d(3, 6, 5)\n",
    "        self.pool = nn.MaxPool2d(2, 2)\n",
    "        self.conv2 = nn.Conv2d(6, 16, 5)\n",
    "        self.fc1 = nn.Linear(16 * 5 * 5, 120)\n",
    "        self.fc2 = nn.Linear(120, 84)\n",
    "        self.fc3 = nn.Linear(84, 10)\n",
    "\n",
    "    def forward(self, x):\n",
    "        x = self.pool(F.relu(self.conv1(x)))\n",
    "        x = self.pool(F.relu(self.conv2(x)))\n",
    "        x = x.view(-1, 16 * 5 * 5)\n",
    "        x = F.relu(self.fc1(x))\n",
    "        x = F.relu(self.fc2(x))\n",
    "        x = self.fc3(x)\n",
    "        return x"
   ]
  },
  {
   "cell_type": "code",
   "execution_count": null,
   "metadata": {},
   "outputs": [],
   "source": []
  },
  {
   "cell_type": "code",
   "execution_count": null,
   "metadata": {},
   "outputs": [],
   "source": [
    "from trainer.base_trainer import BaseTrainer\n",
    "from logger.new_callbacks import Callbacks\n",
    "\n",
    "class Trainer(BaseTrainer):\n",
    "    def __init__(self):\n",
    "        \n",
    "        self.trainloader = trainloader\n",
    "        self.validloader = testloader\n",
    "        self.cb = Callbacks()\n",
    "        \n",
    "        self.criterion = nn.CrossEntropyLoss()\n",
    "        \n",
    "        self.lr = 0.0025\n",
    "        \n",
    "        self.init_model()\n",
    "        self.init_optimizer()\n",
    "        self.init_scheduler()\n",
    "        \n",
    "        \n",
    "        self.use_amp = False\n",
    "        self.grad_acc_num = 1\n",
    "        \n",
    "        self.epochs = 2\n",
    "    \n",
    "    def init_model(self):\n",
    "        self.model = Net()\n",
    "    \n",
    "    def init_optimizer(self, lr=None):\n",
    "        if lr is not None:\n",
    "            self.lr = lr\n",
    "        self.optimizer = optim.SGD(self.model.parameters(), lr=self.lr, momentum=0.9)\n",
    "    \n",
    "    def init_scheduler(self):\n",
    "        self.scheduler = None\n",
    "    '''\n",
    "    1.1.1. batch process\n",
    "    '''\n",
    "    def batch_process(self, batch, index=None, isTraining=True):\n",
    "        self.cb.on_batch_process_start()\n",
    "\n",
    "        self.cb.on_batch_process_end()\n",
    "        return batch\n",
    "\n",
    "    '''\n",
    "    1.1.2. batch train\n",
    "    '''\n",
    "    def batch_train_step(self, batch, index):\n",
    "        self.cb.on_batch_train_step_start()\n",
    "        \n",
    "        inputs, labels = batch\n",
    "        outputs = self.model(inputs)\n",
    "        loss = self.criterion(outputs, labels)\n",
    "        \n",
    "        \n",
    "        dict_metrics = {\"train_batch_loss\":loss.item()}\n",
    "        if self.scheduler is not None:\n",
    "            dict_metrics[\"lr\"] = self.scheduler.get_lr()[0]\n",
    "\n",
    "        self.cb.on_batch_train_step_end(dict_metrics)\n",
    "        return loss\n",
    "    \n",
    "    '''\n",
    "    2.1.2. batch valid\n",
    "    '''\n",
    "    def batch_valid_step(self, batch, index):\n",
    "        self.cb.on_batch_valid_step_start()\n",
    "        \n",
    "        inputs, labels = batch\n",
    "        outputs = self.model(inputs)\n",
    "        loss = self.criterion(outputs, labels)\n",
    "\n",
    "        self.cb.on_batch_valid_step_end({\"valid_batch_loss\":loss.item()})"
   ]
  },
  {
   "cell_type": "code",
   "execution_count": null,
   "metadata": {},
   "outputs": [],
   "source": [
    "trainer = Trainer()"
   ]
  },
  {
   "cell_type": "code",
   "execution_count": null,
   "metadata": {},
   "outputs": [],
   "source": [
    "# trainer.train_on_sample(steps=1000)"
   ]
  },
  {
   "cell_type": "code",
   "execution_count": null,
   "metadata": {
    "scrolled": true
   },
   "outputs": [],
   "source": [
    "trainer.train()"
   ]
  },
  {
   "cell_type": "code",
   "execution_count": null,
   "metadata": {
    "scrolled": true
   },
   "outputs": [],
   "source": [
    "num_iter = 10000\n",
    "start_lr = 0.0001\n",
    "end_lr = 1.0\n",
    "step_mode = \"exp\"\n",
    "stop_factor = 5\n",
    "lrs, losses, min_lr_index = trainer.lr_finder(num_iter, start_lr, end_lr, step_mode, stop_factor)"
   ]
  },
  {
   "cell_type": "code",
   "execution_count": null,
   "metadata": {},
   "outputs": [],
   "source": [
    "%matplotlib inline\n",
    "import pandas as pd\n",
    "import matplotlib.pyplot as plt"
   ]
  },
  {
   "cell_type": "code",
   "execution_count": null,
   "metadata": {
    "scrolled": true
   },
   "outputs": [],
   "source": [
    "df = pd.DataFrame({\"loss\":losses, \"lr\":lrs})\n",
    "df = df[0:min_lr_index+100]\n",
    "df = df.set_index(\"lr\")\n",
    "plt.plot(df[\"loss\"], 'lightblue', df[\"loss\"].rolling(100).mean(), 'b');\n",
    "plt.ylim(1.5,2.9)"
   ]
  },
  {
   "cell_type": "code",
   "execution_count": null,
   "metadata": {},
   "outputs": [],
   "source": []
  }
 ],
 "metadata": {
  "kernelspec": {
   "display_name": "Python 3",
   "language": "python",
   "name": "python3"
  },
  "language_info": {
   "codemirror_mode": {
    "name": "ipython",
    "version": 3
   },
   "file_extension": ".py",
   "mimetype": "text/x-python",
   "name": "python",
   "nbconvert_exporter": "python",
   "pygments_lexer": "ipython3",
   "version": "3.7.4"
  }
 },
 "nbformat": 4,
 "nbformat_minor": 2
}
