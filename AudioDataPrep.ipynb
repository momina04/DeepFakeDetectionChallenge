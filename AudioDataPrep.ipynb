{
 "cells": [
  {
   "cell_type": "code",
   "execution_count": 1,
   "metadata": {},
   "outputs": [],
   "source": [
    "%load_ext autoreload\n",
    "%autoreload 2\n",
    "%matplotlib inline"
   ]
  },
  {
   "cell_type": "code",
   "execution_count": 2,
   "metadata": {},
   "outputs": [],
   "source": [
    "import pandas as pd\n",
    "import json\n",
    "from tqdm import tqdm_notebook as tqdm\n",
    "import math\n",
    "import random\n",
    "import glob\n",
    "from tqdm import tqdm_notebook as tqdm"
   ]
  },
  {
   "cell_type": "code",
   "execution_count": 3,
   "metadata": {},
   "outputs": [],
   "source": [
    "def dump_json(js_meta, name):\n",
    "    json_data = json.dumps(js_meta)\n",
    "    f = open(name,\"w\")\n",
    "    f.write(json_data)\n",
    "    f.close()"
   ]
  },
  {
   "cell_type": "code",
   "execution_count": 7,
   "metadata": {},
   "outputs": [],
   "source": [
    "audio_meta_dir = \"metadata_audio_altered.csv\"\n",
    "full_meta_dir = \"full_metadata.json\""
   ]
  },
  {
   "cell_type": "code",
   "execution_count": 8,
   "metadata": {},
   "outputs": [],
   "source": [
    "actually_real_audio = [\"yfxtuimubx.mp4\",\"ecumyiowzs.mp4\", \"ddcfzufmyd.mp4\", \"axyzsqhnts.mp4\", \"amrryjxojv.mp4\"]"
   ]
  },
  {
   "cell_type": "code",
   "execution_count": 9,
   "metadata": {
    "scrolled": true
   },
   "outputs": [
    {
     "name": "stdout",
     "output_type": "stream",
     "text": [
      "10157\n",
      "10152\n"
     ]
    }
   ],
   "source": [
    "df_audio = pd.read_csv(audio_meta_dir)\n",
    "print(len(df_audio))\n",
    "df_audio = df_audio[~df_audio[\"train_mp4\"].isin(actually_real_audio)]\n",
    "print(len(df_audio))"
   ]
  },
  {
   "cell_type": "code",
   "execution_count": 10,
   "metadata": {},
   "outputs": [],
   "source": [
    "fake_mp4s = list(df_audio[\"train_mp4\"].values)\n",
    "list.sort(fake_mp4s)"
   ]
  },
  {
   "cell_type": "code",
   "execution_count": 11,
   "metadata": {},
   "outputs": [
    {
     "data": {
      "text/plain": [
       "10152"
      ]
     },
     "execution_count": 11,
     "metadata": {},
     "output_type": "execute_result"
    }
   ],
   "source": [
    "len(fake_mp4s)"
   ]
  },
  {
   "cell_type": "code",
   "execution_count": 13,
   "metadata": {},
   "outputs": [],
   "source": [
    "dict_meta =json.load(open(full_meta_dir,'rb'))"
   ]
  },
  {
   "cell_type": "code",
   "execution_count": 14,
   "metadata": {
    "scrolled": true
   },
   "outputs": [
    {
     "data": {
      "text/plain": [
       "119146"
      ]
     },
     "execution_count": 14,
     "metadata": {},
     "output_type": "execute_result"
    }
   ],
   "source": [
    "len(dict_meta)"
   ]
  },
  {
   "cell_type": "code",
   "execution_count": 15,
   "metadata": {},
   "outputs": [],
   "source": [
    "wavs = list(glob.iglob(\"../dltraining/wavs/*.wav\"))\n",
    "wavs = [x.replace(\"../dltraining/wavs/\",\"\").replace(\".wav\",\".mp4\") for x in wavs]"
   ]
  },
  {
   "cell_type": "code",
   "execution_count": 16,
   "metadata": {
    "scrolled": true
   },
   "outputs": [
    {
     "data": {
      "application/vnd.jupyter.widget-view+json": {
       "model_id": "e397badf56854419ad1136049d42166f",
       "version_major": 2,
       "version_minor": 0
      },
      "text/plain": [
       "HBox(children=(IntProgress(value=0, max=119146), HTML(value='')))"
      ]
     },
     "metadata": {},
     "output_type": "display_data"
    },
    {
     "name": "stdout",
     "output_type": "stream",
     "text": [
      "taqnnsyxip.mp4 {'label': 'FAKE', 'split': 'train', 'original': 'pjibpowymk.mp4', 'data_dir': '/dltraining/datasets/data/dfdc_train_part_5', 'folder_name': 'dfdc_train_part_5'}\n",
      "teehidqtii.mp4 {'label': 'REAL', 'split': 'train', 'data_dir': '/dltraining/datasets/data/dfdc_train_part_5', 'folder_name': 'dfdc_train_part_5'}\n",
      "pjibpowymk.mp4 {'label': 'REAL', 'split': 'train', 'data_dir': '/dltraining/datasets/data/dfdc_train_part_5', 'folder_name': 'dfdc_train_part_5'}\n",
      "inkxxqwrzi.mp4 {'label': 'FAKE', 'split': 'train', 'original': 'teehidqtii.mp4', 'data_dir': '/dltraining/datasets/data/dfdc_train_part_5', 'folder_name': 'dfdc_train_part_5'}\n",
      "clmgkufday.mp4 {'label': 'FAKE', 'split': 'train', 'original': 'uyogufqlec.mp4', 'data_dir': '/dltraining/datasets/data/dfdc_train_part_15', 'folder_name': 'dfdc_train_part_15'}\n",
      "uyogufqlec.mp4 {'label': 'REAL', 'split': 'train', 'data_dir': '/dltraining/datasets/data/dfdc_train_part_15', 'folder_name': 'dfdc_train_part_15'}\n",
      "inluuhjteb.mp4 {'label': 'REAL', 'split': 'train', 'data_dir': '/dltraining/datasets/data/dfdc_train_part_18', 'folder_name': 'dfdc_train_part_18'}\n",
      "qawhqaraxg.mp4 {'label': 'FAKE', 'split': 'train', 'original': 'inluuhjteb.mp4', 'data_dir': '/dltraining/datasets/data/dfdc_train_part_18', 'folder_name': 'dfdc_train_part_18'}\n",
      "afnbrsikom.mp4 {'label': 'REAL', 'split': 'train', 'data_dir': '/dltraining/datasets/data/dfdc_train_part_18', 'folder_name': 'dfdc_train_part_18'}\n",
      "dyxnxclbhg.mp4 {'label': 'FAKE', 'split': 'train', 'original': 'afnbrsikom.mp4', 'data_dir': '/dltraining/datasets/data/dfdc_train_part_18', 'folder_name': 'dfdc_train_part_18'}\n",
      "xqnvbrujjo.mp4 {'label': 'FAKE', 'split': 'train', 'original': 'cozgtibuda.mp4', 'data_dir': '/dltraining/datasets/data/dfdc_train_part_18', 'folder_name': 'dfdc_train_part_18'}\n",
      "strqdkvswm.mp4 {'label': 'FAKE', 'split': 'train', 'original': 'afnbrsikom.mp4', 'data_dir': '/dltraining/datasets/data/dfdc_train_part_18', 'folder_name': 'dfdc_train_part_18'}\n",
      "cozgtibuda.mp4 {'label': 'REAL', 'split': 'train', 'data_dir': '/dltraining/datasets/data/dfdc_train_part_18', 'folder_name': 'dfdc_train_part_18'}\n",
      "qqtoccrfzs.mp4 {'label': 'FAKE', 'split': 'train', 'original': 'inluuhjteb.mp4', 'data_dir': '/dltraining/datasets/data/dfdc_train_part_18', 'folder_name': 'dfdc_train_part_18'}\n",
      "ihqurgivsl.mp4 {'label': 'FAKE', 'split': 'train', 'original': 'urnqalzaon.mp4', 'data_dir': '/dltraining/datasets/data/dfdc_train_part_25', 'folder_name': 'dfdc_train_part_25'}\n",
      "szkoxlypql.mp4 {'label': 'REAL', 'split': 'train', 'data_dir': '/dltraining/datasets/data/dfdc_train_part_25', 'folder_name': 'dfdc_train_part_25'}\n",
      "ggjareyaqd.mp4 {'label': 'FAKE', 'split': 'train', 'original': 'urnqalzaon.mp4', 'data_dir': '/dltraining/datasets/data/dfdc_train_part_25', 'folder_name': 'dfdc_train_part_25'}\n",
      "ykpvzfdqpw.mp4 {'label': 'FAKE', 'split': 'train', 'original': 'szkoxlypql.mp4', 'data_dir': '/dltraining/datasets/data/dfdc_train_part_25', 'folder_name': 'dfdc_train_part_25'}\n",
      "urnqalzaon.mp4 {'label': 'REAL', 'split': 'train', 'data_dir': '/dltraining/datasets/data/dfdc_train_part_25', 'folder_name': 'dfdc_train_part_25'}\n",
      "hycdczdeby.mp4 {'label': 'FAKE', 'split': 'train', 'original': 'wfdlblolif.mp4', 'data_dir': '/dltraining/datasets/data/dfdc_train_part_26', 'folder_name': 'dfdc_train_part_26'}\n",
      "wfdlblolif.mp4 {'label': 'REAL', 'split': 'train', 'data_dir': '/dltraining/datasets/data/dfdc_train_part_26', 'folder_name': 'dfdc_train_part_26'}\n",
      "ctpexqamtx.mp4 {'label': 'FAKE', 'split': 'train', 'original': 'rbvqghnbez.mp4', 'data_dir': '/dltraining/datasets/data/dfdc_train_part_45', 'folder_name': 'dfdc_train_part_45'}\n",
      "rbvqghnbez.mp4 {'label': 'REAL', 'split': 'train', 'data_dir': '/dltraining/datasets/data/dfdc_train_part_45', 'folder_name': 'dfdc_train_part_45'}\n",
      "xsrbccytqi.mp4 {'label': 'FAKE', 'split': 'train', 'original': 'zilqngcakp.mp4', 'data_dir': '/dltraining/datasets/data/dfdc_train_part_29', 'folder_name': 'dfdc_train_part_29'}\n",
      "zilqngcakp.mp4 {'label': 'REAL', 'split': 'train', 'data_dir': '/dltraining/datasets/data/dfdc_train_part_29', 'folder_name': 'dfdc_train_part_29'}\n",
      "vebpwqhssp.mp4 {'label': 'FAKE', 'split': 'train', 'original': 'sxqroedlhr.mp4', 'data_dir': '/dltraining/datasets/data/dfdc_train_part_29', 'folder_name': 'dfdc_train_part_29'}\n",
      "sxqroedlhr.mp4 {'label': 'REAL', 'split': 'train', 'data_dir': '/dltraining/datasets/data/dfdc_train_part_29', 'folder_name': 'dfdc_train_part_29'}\n",
      "wnqlzimgbg.mp4 {'label': 'REAL', 'split': 'train', 'data_dir': '/dltraining/datasets/data/dfdc_train_part_29', 'folder_name': 'dfdc_train_part_29'}\n",
      "rjudlivnao.mp4 {'label': 'FAKE', 'split': 'train', 'original': 'wnqlzimgbg.mp4', 'data_dir': '/dltraining/datasets/data/dfdc_train_part_29', 'folder_name': 'dfdc_train_part_29'}\n",
      "rsvtkzxufe.mp4 {'label': 'FAKE', 'split': 'train', 'original': 'wnqlzimgbg.mp4', 'data_dir': '/dltraining/datasets/data/dfdc_train_part_29', 'folder_name': 'dfdc_train_part_29'}\n",
      "\n"
     ]
    }
   ],
   "source": [
    "no_audio_meta_item = []\n",
    "for key, v in tqdm(dict_meta.items()):\n",
    "    if key not in wavs:\n",
    "        print(key, v)\n",
    "        no_audio_meta_item.append(key)"
   ]
  },
  {
   "cell_type": "code",
   "execution_count": 17,
   "metadata": {},
   "outputs": [
    {
     "data": {
      "text/plain": [
       "['taqnnsyxip.mp4',\n",
       " 'teehidqtii.mp4',\n",
       " 'pjibpowymk.mp4',\n",
       " 'inkxxqwrzi.mp4',\n",
       " 'clmgkufday.mp4',\n",
       " 'uyogufqlec.mp4',\n",
       " 'inluuhjteb.mp4',\n",
       " 'qawhqaraxg.mp4',\n",
       " 'afnbrsikom.mp4',\n",
       " 'dyxnxclbhg.mp4',\n",
       " 'xqnvbrujjo.mp4',\n",
       " 'strqdkvswm.mp4',\n",
       " 'cozgtibuda.mp4',\n",
       " 'qqtoccrfzs.mp4',\n",
       " 'ihqurgivsl.mp4',\n",
       " 'szkoxlypql.mp4',\n",
       " 'ggjareyaqd.mp4',\n",
       " 'ykpvzfdqpw.mp4',\n",
       " 'urnqalzaon.mp4',\n",
       " 'hycdczdeby.mp4',\n",
       " 'wfdlblolif.mp4',\n",
       " 'ctpexqamtx.mp4',\n",
       " 'rbvqghnbez.mp4',\n",
       " 'xsrbccytqi.mp4',\n",
       " 'zilqngcakp.mp4',\n",
       " 'vebpwqhssp.mp4',\n",
       " 'sxqroedlhr.mp4',\n",
       " 'wnqlzimgbg.mp4',\n",
       " 'rjudlivnao.mp4',\n",
       " 'rsvtkzxufe.mp4']"
      ]
     },
     "execution_count": 17,
     "metadata": {},
     "output_type": "execute_result"
    }
   ],
   "source": [
    "no_audio_meta_item"
   ]
  },
  {
   "cell_type": "code",
   "execution_count": 18,
   "metadata": {},
   "outputs": [],
   "source": [
    "for nami in no_audio_meta_item:\n",
    "    del dict_meta[nami]"
   ]
  },
  {
   "cell_type": "code",
   "execution_count": 19,
   "metadata": {},
   "outputs": [
    {
     "data": {
      "text/plain": [
       "119116"
      ]
     },
     "execution_count": 19,
     "metadata": {},
     "output_type": "execute_result"
    }
   ],
   "source": [
    "len(dict_meta)"
   ]
  },
  {
   "cell_type": "code",
   "execution_count": 23,
   "metadata": {},
   "outputs": [
    {
     "data": {
      "application/vnd.jupyter.widget-view+json": {
       "model_id": "a14ac4763856436fb379ac4a09a9cd7a",
       "version_major": 2,
       "version_minor": 0
      },
      "text/plain": [
       "HBox(children=(IntProgress(value=0, max=119116), HTML(value='')))"
      ]
     },
     "metadata": {},
     "output_type": "display_data"
    },
    {
     "name": "stdout",
     "output_type": "stream",
     "text": [
      "\n"
     ]
    }
   ],
   "source": [
    "for key, value in tqdm(dict_meta.items()):\n",
    "    if key in fake_mp4s:\n",
    "        value['audio_label'] = 'FAKE' \n",
    "        dict_meta[key] = value\n",
    "    else:\n",
    "        value['audio_label'] = 'REAL' \n",
    "        dict_meta[key] = value"
   ]
  },
  {
   "cell_type": "code",
   "execution_count": 21,
   "metadata": {
    "scrolled": true
   },
   "outputs": [],
   "source": [
    "dump_json(dict_meta, \"full_audio_meta2.json\")"
   ]
  },
  {
   "cell_type": "code",
   "execution_count": 29,
   "metadata": {},
   "outputs": [],
   "source": [
    "df_meta = pd.DataFrame(dict_meta).T"
   ]
  },
  {
   "cell_type": "code",
   "execution_count": 33,
   "metadata": {},
   "outputs": [],
   "source": [
    "folders_with_fake_audio = list(df_meta[df_meta[\"audio_label\"]==\"FAKE\"][\"folder_name\"].unique())"
   ]
  },
  {
   "cell_type": "code",
   "execution_count": 36,
   "metadata": {},
   "outputs": [],
   "source": [
    "fake_sample_training_folder = random.sample(folders_with_fake_audio, int(len(folders_with_fake_audio)*0.8))"
   ]
  },
  {
   "cell_type": "code",
   "execution_count": 43,
   "metadata": {},
   "outputs": [],
   "source": [
    "fake_sample_valid_folder = list(set(folders_with_fake_audio)-set(fake_sample_training_folder))"
   ]
  },
  {
   "cell_type": "code",
   "execution_count": 49,
   "metadata": {},
   "outputs": [],
   "source": [
    "df_valid = df_meta[df_meta[\"folder_name\"].isin(fake_sample_valid_folder)]\n",
    "df_train = df_meta[df_meta[\"folder_name\"].isin(fake_sample_training_folder)]"
   ]
  },
  {
   "cell_type": "code",
   "execution_count": 52,
   "metadata": {},
   "outputs": [
    {
     "data": {
      "text/html": [
       "<div>\n",
       "<style scoped>\n",
       "    .dataframe tbody tr th:only-of-type {\n",
       "        vertical-align: middle;\n",
       "    }\n",
       "\n",
       "    .dataframe tbody tr th {\n",
       "        vertical-align: top;\n",
       "    }\n",
       "\n",
       "    .dataframe thead th {\n",
       "        text-align: right;\n",
       "    }\n",
       "</style>\n",
       "<table border=\"1\" class=\"dataframe\">\n",
       "  <thead>\n",
       "    <tr style=\"text-align: right;\">\n",
       "      <th></th>\n",
       "      <th>label</th>\n",
       "      <th>split</th>\n",
       "      <th>original</th>\n",
       "      <th>data_dir</th>\n",
       "      <th>folder_name</th>\n",
       "      <th>audio_label</th>\n",
       "    </tr>\n",
       "  </thead>\n",
       "  <tbody>\n",
       "    <tr>\n",
       "      <th>nunyzzmfdw.mp4</th>\n",
       "      <td>FAKE</td>\n",
       "      <td>train</td>\n",
       "      <td>lbgnipxpnx.mp4</td>\n",
       "      <td>/dltraining/datasets/data/dfdc_train_part_4</td>\n",
       "      <td>dfdc_train_part_4</td>\n",
       "      <td>FAKE</td>\n",
       "    </tr>\n",
       "    <tr>\n",
       "      <th>osshfmdpgr.mp4</th>\n",
       "      <td>FAKE</td>\n",
       "      <td>train</td>\n",
       "      <td>avpxuvplbn.mp4</td>\n",
       "      <td>/dltraining/datasets/data/dfdc_train_part_4</td>\n",
       "      <td>dfdc_train_part_4</td>\n",
       "      <td>FAKE</td>\n",
       "    </tr>\n",
       "    <tr>\n",
       "      <th>ziphbixywq.mp4</th>\n",
       "      <td>FAKE</td>\n",
       "      <td>train</td>\n",
       "      <td>lbgnipxpnx.mp4</td>\n",
       "      <td>/dltraining/datasets/data/dfdc_train_part_4</td>\n",
       "      <td>dfdc_train_part_4</td>\n",
       "      <td>FAKE</td>\n",
       "    </tr>\n",
       "    <tr>\n",
       "      <th>iuoaacarhc.mp4</th>\n",
       "      <td>FAKE</td>\n",
       "      <td>train</td>\n",
       "      <td>avpxuvplbn.mp4</td>\n",
       "      <td>/dltraining/datasets/data/dfdc_train_part_4</td>\n",
       "      <td>dfdc_train_part_4</td>\n",
       "      <td>FAKE</td>\n",
       "    </tr>\n",
       "    <tr>\n",
       "      <th>qsawsatkfg.mp4</th>\n",
       "      <td>FAKE</td>\n",
       "      <td>train</td>\n",
       "      <td>zveogsfnoz.mp4</td>\n",
       "      <td>/dltraining/datasets/data/dfdc_train_part_4</td>\n",
       "      <td>dfdc_train_part_4</td>\n",
       "      <td>FAKE</td>\n",
       "    </tr>\n",
       "    <tr>\n",
       "      <th>...</th>\n",
       "      <td>...</td>\n",
       "      <td>...</td>\n",
       "      <td>...</td>\n",
       "      <td>...</td>\n",
       "      <td>...</td>\n",
       "      <td>...</td>\n",
       "    </tr>\n",
       "    <tr>\n",
       "      <th>tvxrrbkzog.mp4</th>\n",
       "      <td>FAKE</td>\n",
       "      <td>train</td>\n",
       "      <td>wgswphznis.mp4</td>\n",
       "      <td>/dltraining/datasets/data/dfdc_train_part_49</td>\n",
       "      <td>dfdc_train_part_49</td>\n",
       "      <td>FAKE</td>\n",
       "    </tr>\n",
       "    <tr>\n",
       "      <th>achekamhkd.mp4</th>\n",
       "      <td>FAKE</td>\n",
       "      <td>train</td>\n",
       "      <td>yyfknjxaey.mp4</td>\n",
       "      <td>/dltraining/datasets/data/dfdc_train_part_49</td>\n",
       "      <td>dfdc_train_part_49</td>\n",
       "      <td>FAKE</td>\n",
       "    </tr>\n",
       "    <tr>\n",
       "      <th>ozjvlnehul.mp4</th>\n",
       "      <td>FAKE</td>\n",
       "      <td>train</td>\n",
       "      <td>cywebjaezn.mp4</td>\n",
       "      <td>/dltraining/datasets/data/dfdc_train_part_49</td>\n",
       "      <td>dfdc_train_part_49</td>\n",
       "      <td>FAKE</td>\n",
       "    </tr>\n",
       "    <tr>\n",
       "      <th>tnaeehpcnb.mp4</th>\n",
       "      <td>FAKE</td>\n",
       "      <td>train</td>\n",
       "      <td>moyljhcxok.mp4</td>\n",
       "      <td>/dltraining/datasets/data/dfdc_train_part_49</td>\n",
       "      <td>dfdc_train_part_49</td>\n",
       "      <td>FAKE</td>\n",
       "    </tr>\n",
       "    <tr>\n",
       "      <th>djjdcnhlma.mp4</th>\n",
       "      <td>FAKE</td>\n",
       "      <td>train</td>\n",
       "      <td>kudvvlgiff.mp4</td>\n",
       "      <td>/dltraining/datasets/data/dfdc_train_part_49</td>\n",
       "      <td>dfdc_train_part_49</td>\n",
       "      <td>FAKE</td>\n",
       "    </tr>\n",
       "  </tbody>\n",
       "</table>\n",
       "<p>7854 rows × 6 columns</p>\n",
       "</div>"
      ],
      "text/plain": [
       "               label  split        original  \\\n",
       "nunyzzmfdw.mp4  FAKE  train  lbgnipxpnx.mp4   \n",
       "osshfmdpgr.mp4  FAKE  train  avpxuvplbn.mp4   \n",
       "ziphbixywq.mp4  FAKE  train  lbgnipxpnx.mp4   \n",
       "iuoaacarhc.mp4  FAKE  train  avpxuvplbn.mp4   \n",
       "qsawsatkfg.mp4  FAKE  train  zveogsfnoz.mp4   \n",
       "...              ...    ...             ...   \n",
       "tvxrrbkzog.mp4  FAKE  train  wgswphznis.mp4   \n",
       "achekamhkd.mp4  FAKE  train  yyfknjxaey.mp4   \n",
       "ozjvlnehul.mp4  FAKE  train  cywebjaezn.mp4   \n",
       "tnaeehpcnb.mp4  FAKE  train  moyljhcxok.mp4   \n",
       "djjdcnhlma.mp4  FAKE  train  kudvvlgiff.mp4   \n",
       "\n",
       "                                                    data_dir  \\\n",
       "nunyzzmfdw.mp4   /dltraining/datasets/data/dfdc_train_part_4   \n",
       "osshfmdpgr.mp4   /dltraining/datasets/data/dfdc_train_part_4   \n",
       "ziphbixywq.mp4   /dltraining/datasets/data/dfdc_train_part_4   \n",
       "iuoaacarhc.mp4   /dltraining/datasets/data/dfdc_train_part_4   \n",
       "qsawsatkfg.mp4   /dltraining/datasets/data/dfdc_train_part_4   \n",
       "...                                                      ...   \n",
       "tvxrrbkzog.mp4  /dltraining/datasets/data/dfdc_train_part_49   \n",
       "achekamhkd.mp4  /dltraining/datasets/data/dfdc_train_part_49   \n",
       "ozjvlnehul.mp4  /dltraining/datasets/data/dfdc_train_part_49   \n",
       "tnaeehpcnb.mp4  /dltraining/datasets/data/dfdc_train_part_49   \n",
       "djjdcnhlma.mp4  /dltraining/datasets/data/dfdc_train_part_49   \n",
       "\n",
       "                       folder_name audio_label  \n",
       "nunyzzmfdw.mp4   dfdc_train_part_4        FAKE  \n",
       "osshfmdpgr.mp4   dfdc_train_part_4        FAKE  \n",
       "ziphbixywq.mp4   dfdc_train_part_4        FAKE  \n",
       "iuoaacarhc.mp4   dfdc_train_part_4        FAKE  \n",
       "qsawsatkfg.mp4   dfdc_train_part_4        FAKE  \n",
       "...                            ...         ...  \n",
       "tvxrrbkzog.mp4  dfdc_train_part_49        FAKE  \n",
       "achekamhkd.mp4  dfdc_train_part_49        FAKE  \n",
       "ozjvlnehul.mp4  dfdc_train_part_49        FAKE  \n",
       "tnaeehpcnb.mp4  dfdc_train_part_49        FAKE  \n",
       "djjdcnhlma.mp4  dfdc_train_part_49        FAKE  \n",
       "\n",
       "[7854 rows x 6 columns]"
      ]
     },
     "execution_count": 52,
     "metadata": {},
     "output_type": "execute_result"
    }
   ],
   "source": [
    "df_train[df_train[\"audio_label\"]==\"FAKE\"]"
   ]
  },
  {
   "cell_type": "code",
   "execution_count": 53,
   "metadata": {},
   "outputs": [
    {
     "data": {
      "text/html": [
       "<div>\n",
       "<style scoped>\n",
       "    .dataframe tbody tr th:only-of-type {\n",
       "        vertical-align: middle;\n",
       "    }\n",
       "\n",
       "    .dataframe tbody tr th {\n",
       "        vertical-align: top;\n",
       "    }\n",
       "\n",
       "    .dataframe thead th {\n",
       "        text-align: right;\n",
       "    }\n",
       "</style>\n",
       "<table border=\"1\" class=\"dataframe\">\n",
       "  <thead>\n",
       "    <tr style=\"text-align: right;\">\n",
       "      <th></th>\n",
       "      <th>label</th>\n",
       "      <th>split</th>\n",
       "      <th>original</th>\n",
       "      <th>data_dir</th>\n",
       "      <th>folder_name</th>\n",
       "      <th>audio_label</th>\n",
       "    </tr>\n",
       "  </thead>\n",
       "  <tbody>\n",
       "    <tr>\n",
       "      <th>ohaqlzfnuv.mp4</th>\n",
       "      <td>FAKE</td>\n",
       "      <td>train</td>\n",
       "      <td>sttnfyptum.mp4</td>\n",
       "      <td>/dltraining/datasets/data/dfdc_train_part_0</td>\n",
       "      <td>dfdc_train_part_0</td>\n",
       "      <td>FAKE</td>\n",
       "    </tr>\n",
       "    <tr>\n",
       "      <th>kmcdjxmnoa.mp4</th>\n",
       "      <td>FAKE</td>\n",
       "      <td>train</td>\n",
       "      <td>sttnfyptum.mp4</td>\n",
       "      <td>/dltraining/datasets/data/dfdc_train_part_0</td>\n",
       "      <td>dfdc_train_part_0</td>\n",
       "      <td>FAKE</td>\n",
       "    </tr>\n",
       "    <tr>\n",
       "      <th>ihnhxathkq.mp4</th>\n",
       "      <td>FAKE</td>\n",
       "      <td>train</td>\n",
       "      <td>sttnfyptum.mp4</td>\n",
       "      <td>/dltraining/datasets/data/dfdc_train_part_0</td>\n",
       "      <td>dfdc_train_part_0</td>\n",
       "      <td>FAKE</td>\n",
       "    </tr>\n",
       "    <tr>\n",
       "      <th>hsxrmrcaqh.mp4</th>\n",
       "      <td>FAKE</td>\n",
       "      <td>train</td>\n",
       "      <td>upmgtackuf.mp4</td>\n",
       "      <td>/dltraining/datasets/data/dfdc_train_part_0</td>\n",
       "      <td>dfdc_train_part_0</td>\n",
       "      <td>FAKE</td>\n",
       "    </tr>\n",
       "    <tr>\n",
       "      <th>btizoxwqwp.mp4</th>\n",
       "      <td>FAKE</td>\n",
       "      <td>train</td>\n",
       "      <td>fnslimfagb.mp4</td>\n",
       "      <td>/dltraining/datasets/data/dfdc_train_part_0</td>\n",
       "      <td>dfdc_train_part_0</td>\n",
       "      <td>FAKE</td>\n",
       "    </tr>\n",
       "    <tr>\n",
       "      <th>...</th>\n",
       "      <td>...</td>\n",
       "      <td>...</td>\n",
       "      <td>...</td>\n",
       "      <td>...</td>\n",
       "      <td>...</td>\n",
       "      <td>...</td>\n",
       "    </tr>\n",
       "    <tr>\n",
       "      <th>taprhjnthk.mp4</th>\n",
       "      <td>FAKE</td>\n",
       "      <td>train</td>\n",
       "      <td>hgmpsbvzkx.mp4</td>\n",
       "      <td>/dltraining/datasets/data/dfdc_train_part_46</td>\n",
       "      <td>dfdc_train_part_46</td>\n",
       "      <td>FAKE</td>\n",
       "    </tr>\n",
       "    <tr>\n",
       "      <th>ejpftkbwln.mp4</th>\n",
       "      <td>FAKE</td>\n",
       "      <td>train</td>\n",
       "      <td>irxfiqsbuj.mp4</td>\n",
       "      <td>/dltraining/datasets/data/dfdc_train_part_46</td>\n",
       "      <td>dfdc_train_part_46</td>\n",
       "      <td>FAKE</td>\n",
       "    </tr>\n",
       "    <tr>\n",
       "      <th>dhmovshgex.mp4</th>\n",
       "      <td>FAKE</td>\n",
       "      <td>train</td>\n",
       "      <td>tkxblcleyd.mp4</td>\n",
       "      <td>/dltraining/datasets/data/dfdc_train_part_46</td>\n",
       "      <td>dfdc_train_part_46</td>\n",
       "      <td>FAKE</td>\n",
       "    </tr>\n",
       "    <tr>\n",
       "      <th>tglxshkgjx.mp4</th>\n",
       "      <td>FAKE</td>\n",
       "      <td>train</td>\n",
       "      <td>qepouweoaa.mp4</td>\n",
       "      <td>/dltraining/datasets/data/dfdc_train_part_46</td>\n",
       "      <td>dfdc_train_part_46</td>\n",
       "      <td>FAKE</td>\n",
       "    </tr>\n",
       "    <tr>\n",
       "      <th>wddsnkeghb.mp4</th>\n",
       "      <td>FAKE</td>\n",
       "      <td>train</td>\n",
       "      <td>qufzdwetss.mp4</td>\n",
       "      <td>/dltraining/datasets/data/dfdc_train_part_46</td>\n",
       "      <td>dfdc_train_part_46</td>\n",
       "      <td>FAKE</td>\n",
       "    </tr>\n",
       "  </tbody>\n",
       "</table>\n",
       "<p>2298 rows × 6 columns</p>\n",
       "</div>"
      ],
      "text/plain": [
       "               label  split        original  \\\n",
       "ohaqlzfnuv.mp4  FAKE  train  sttnfyptum.mp4   \n",
       "kmcdjxmnoa.mp4  FAKE  train  sttnfyptum.mp4   \n",
       "ihnhxathkq.mp4  FAKE  train  sttnfyptum.mp4   \n",
       "hsxrmrcaqh.mp4  FAKE  train  upmgtackuf.mp4   \n",
       "btizoxwqwp.mp4  FAKE  train  fnslimfagb.mp4   \n",
       "...              ...    ...             ...   \n",
       "taprhjnthk.mp4  FAKE  train  hgmpsbvzkx.mp4   \n",
       "ejpftkbwln.mp4  FAKE  train  irxfiqsbuj.mp4   \n",
       "dhmovshgex.mp4  FAKE  train  tkxblcleyd.mp4   \n",
       "tglxshkgjx.mp4  FAKE  train  qepouweoaa.mp4   \n",
       "wddsnkeghb.mp4  FAKE  train  qufzdwetss.mp4   \n",
       "\n",
       "                                                    data_dir  \\\n",
       "ohaqlzfnuv.mp4   /dltraining/datasets/data/dfdc_train_part_0   \n",
       "kmcdjxmnoa.mp4   /dltraining/datasets/data/dfdc_train_part_0   \n",
       "ihnhxathkq.mp4   /dltraining/datasets/data/dfdc_train_part_0   \n",
       "hsxrmrcaqh.mp4   /dltraining/datasets/data/dfdc_train_part_0   \n",
       "btizoxwqwp.mp4   /dltraining/datasets/data/dfdc_train_part_0   \n",
       "...                                                      ...   \n",
       "taprhjnthk.mp4  /dltraining/datasets/data/dfdc_train_part_46   \n",
       "ejpftkbwln.mp4  /dltraining/datasets/data/dfdc_train_part_46   \n",
       "dhmovshgex.mp4  /dltraining/datasets/data/dfdc_train_part_46   \n",
       "tglxshkgjx.mp4  /dltraining/datasets/data/dfdc_train_part_46   \n",
       "wddsnkeghb.mp4  /dltraining/datasets/data/dfdc_train_part_46   \n",
       "\n",
       "                       folder_name audio_label  \n",
       "ohaqlzfnuv.mp4   dfdc_train_part_0        FAKE  \n",
       "kmcdjxmnoa.mp4   dfdc_train_part_0        FAKE  \n",
       "ihnhxathkq.mp4   dfdc_train_part_0        FAKE  \n",
       "hsxrmrcaqh.mp4   dfdc_train_part_0        FAKE  \n",
       "btizoxwqwp.mp4   dfdc_train_part_0        FAKE  \n",
       "...                            ...         ...  \n",
       "taprhjnthk.mp4  dfdc_train_part_46        FAKE  \n",
       "ejpftkbwln.mp4  dfdc_train_part_46        FAKE  \n",
       "dhmovshgex.mp4  dfdc_train_part_46        FAKE  \n",
       "tglxshkgjx.mp4  dfdc_train_part_46        FAKE  \n",
       "wddsnkeghb.mp4  dfdc_train_part_46        FAKE  \n",
       "\n",
       "[2298 rows x 6 columns]"
      ]
     },
     "execution_count": 53,
     "metadata": {},
     "output_type": "execute_result"
    }
   ],
   "source": [
    "df_valid[df_valid[\"audio_label\"]==\"FAKE\"]"
   ]
  },
  {
   "cell_type": "code",
   "execution_count": 56,
   "metadata": {},
   "outputs": [
    {
     "data": {
      "text/plain": [
       "(97390, 21726)"
      ]
     },
     "execution_count": 56,
     "metadata": {},
     "output_type": "execute_result"
    }
   ],
   "source": [
    "len(df_train), len(df_valid)"
   ]
  },
  {
   "cell_type": "code",
   "execution_count": 64,
   "metadata": {},
   "outputs": [],
   "source": [
    "dict_train_meta = df_train.to_dict(orient='index')\n",
    "dict_valid_meta = df_valid.to_dict(orient='index')"
   ]
  },
  {
   "cell_type": "code",
   "execution_count": 65,
   "metadata": {},
   "outputs": [],
   "source": [
    "dump_json(dict_train_meta, \"train_audio_meta2.json\")\n",
    "dump_json(dict_valid_meta, \"valid_audio_meta2.json\")"
   ]
  },
  {
   "cell_type": "markdown",
   "metadata": {},
   "source": [
    "## old method of splitting data, huge dataleak"
   ]
  },
  {
   "cell_type": "code",
   "execution_count": 17,
   "metadata": {},
   "outputs": [],
   "source": [
    "train_num = math.ceil(len(fake_mp4s)*0.8)"
   ]
  },
  {
   "cell_type": "code",
   "execution_count": 18,
   "metadata": {},
   "outputs": [
    {
     "data": {
      "text/plain": [
       "(8122, 2030)"
      ]
     },
     "execution_count": 18,
     "metadata": {},
     "output_type": "execute_result"
    }
   ],
   "source": [
    "training_fake_mp4s = fake_mp4s[0:train_num]\n",
    "valid_fake_mp4s = fake_mp4s[train_num:]\n",
    "len(training_fake_mp4s), len(valid_fake_mp4s)"
   ]
  },
  {
   "cell_type": "code",
   "execution_count": 19,
   "metadata": {},
   "outputs": [],
   "source": [
    "all_meta_mp4s = list(dict_meta.keys())"
   ]
  },
  {
   "cell_type": "code",
   "execution_count": 20,
   "metadata": {},
   "outputs": [],
   "source": [
    "real_mp4s = list(set(all_meta_mp4s)-set(training_fake_mp4s)-set(valid_fake_mp4s))"
   ]
  },
  {
   "cell_type": "code",
   "execution_count": 21,
   "metadata": {},
   "outputs": [],
   "source": [
    "num_valid = len(valid_fake_mp4s)\n",
    "valid_real_mp4s = random.sample(real_mp4s,num_valid)\n",
    "train_real_mp4s = list(set(real_mp4s)-set(valid_real_mp4s))"
   ]
  },
  {
   "cell_type": "code",
   "execution_count": 22,
   "metadata": {},
   "outputs": [],
   "source": [
    "valid_mp4s = valid_real_mp4s + valid_fake_mp4s\n",
    "train_mp4s = train_real_mp4s + training_fake_mp4s"
   ]
  },
  {
   "cell_type": "code",
   "execution_count": 23,
   "metadata": {},
   "outputs": [
    {
     "data": {
      "text/plain": [
       "(4060, 115056)"
      ]
     },
     "execution_count": 23,
     "metadata": {},
     "output_type": "execute_result"
    }
   ],
   "source": [
    "len(valid_mp4s),len(train_mp4s)"
   ]
  },
  {
   "cell_type": "code",
   "execution_count": 24,
   "metadata": {},
   "outputs": [
    {
     "name": "stderr",
     "output_type": "stream",
     "text": [
      "/opt/anaconda3/lib/python3.7/site-packages/ipykernel_launcher.py:2: TqdmDeprecationWarning: This function will be removed in tqdm==5.0.0\n",
      "Please use `tqdm.notebook.tqdm` instead of `tqdm.tqdm_notebook`\n",
      "  \n"
     ]
    },
    {
     "data": {
      "application/vnd.jupyter.widget-view+json": {
       "model_id": "a97d54a39b6e4e0f88eee45a7eac61f4",
       "version_major": 2,
       "version_minor": 0
      },
      "text/plain": [
       "HBox(children=(FloatProgress(value=0.0, max=119116.0), HTML(value='')))"
      ]
     },
     "metadata": {},
     "output_type": "display_data"
    },
    {
     "name": "stdout",
     "output_type": "stream",
     "text": [
      "\n"
     ]
    }
   ],
   "source": [
    "dict_train_meta = {}\n",
    "for key, value in tqdm(dict_meta.items()):\n",
    "    if key in train_mp4s:\n",
    "        dict_train_meta[key] = value"
   ]
  },
  {
   "cell_type": "code",
   "execution_count": 25,
   "metadata": {},
   "outputs": [
    {
     "name": "stderr",
     "output_type": "stream",
     "text": [
      "/opt/anaconda3/lib/python3.7/site-packages/ipykernel_launcher.py:2: TqdmDeprecationWarning: This function will be removed in tqdm==5.0.0\n",
      "Please use `tqdm.notebook.tqdm` instead of `tqdm.tqdm_notebook`\n",
      "  \n"
     ]
    },
    {
     "data": {
      "application/vnd.jupyter.widget-view+json": {
       "model_id": "b2dff36b89194a258acf164c133be89b",
       "version_major": 2,
       "version_minor": 0
      },
      "text/plain": [
       "HBox(children=(FloatProgress(value=0.0, max=119116.0), HTML(value='')))"
      ]
     },
     "metadata": {},
     "output_type": "display_data"
    },
    {
     "name": "stdout",
     "output_type": "stream",
     "text": [
      "\n"
     ]
    }
   ],
   "source": [
    "dict_valid_meta = {}\n",
    "for key, value in tqdm(dict_meta.items()):\n",
    "    if key in valid_mp4s:\n",
    "        dict_valid_meta[key] = value"
   ]
  },
  {
   "cell_type": "code",
   "execution_count": 26,
   "metadata": {},
   "outputs": [
    {
     "data": {
      "text/plain": [
       "(115056, 4060)"
      ]
     },
     "execution_count": 26,
     "metadata": {},
     "output_type": "execute_result"
    }
   ],
   "source": [
    "len(dict_train_meta), len(dict_valid_meta)"
   ]
  },
  {
   "cell_type": "code",
   "execution_count": 27,
   "metadata": {},
   "outputs": [],
   "source": [
    "dump_json(dict_train_meta, \"train_audio_meta2.json\")\n",
    "dump_json(dict_valid_meta, \"valid_audio_meta2.json\")"
   ]
  },
  {
   "cell_type": "code",
   "execution_count": null,
   "metadata": {},
   "outputs": [],
   "source": []
  }
 ],
 "metadata": {
  "kernelspec": {
   "display_name": "Python 3",
   "language": "python",
   "name": "python3"
  },
  "language_info": {
   "codemirror_mode": {
    "name": "ipython",
    "version": 3
   },
   "file_extension": ".py",
   "mimetype": "text/x-python",
   "name": "python",
   "nbconvert_exporter": "python",
   "pygments_lexer": "ipython3",
   "version": "3.7.4"
  }
 },
 "nbformat": 4,
 "nbformat_minor": 2
}
