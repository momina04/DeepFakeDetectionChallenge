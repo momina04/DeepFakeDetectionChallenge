{
 "cells": [
  {
   "cell_type": "code",
   "execution_count": 1,
   "metadata": {},
   "outputs": [],
   "source": [
    "%load_ext autoreload\n",
    "%autoreload 2\n",
    "%matplotlib inline"
   ]
  },
  {
   "cell_type": "code",
   "execution_count": 2,
   "metadata": {},
   "outputs": [],
   "source": [
    "import pandas as pd\n",
    "import json\n",
    "from tqdm import tqdm_notebook as tqdm\n",
    "import math\n",
    "import random\n",
    "import glob\n",
    "from tqdm import tqdm_notebook as tqdm"
   ]
  },
  {
   "cell_type": "code",
   "execution_count": 3,
   "metadata": {},
   "outputs": [],
   "source": [
    "def dump_json(js_meta, name):\n",
    "    json_data = json.dumps(js_meta)\n",
    "    f = open(name,\"w\")\n",
    "    f.write(json_data)\n",
    "    f.close()"
   ]
  },
  {
   "cell_type": "code",
   "execution_count": 4,
   "metadata": {},
   "outputs": [],
   "source": [
    "audio_meta_dir = \"metadata_audio_altered.csv\"\n",
    "full_meta_dir = \"full_metadata.json\""
   ]
  },
  {
   "cell_type": "code",
   "execution_count": 5,
   "metadata": {},
   "outputs": [],
   "source": [
    "actually_real_audio = [\"yfxtuimubx.mp4\",\"ecumyiowzs.mp4\", \"ddcfzufmyd.mp4\", \"axyzsqhnts.mp4\", \"amrryjxojv.mp4\"]"
   ]
  },
  {
   "cell_type": "code",
   "execution_count": 6,
   "metadata": {
    "scrolled": true
   },
   "outputs": [
    {
     "name": "stdout",
     "output_type": "stream",
     "text": [
      "10157\n",
      "10152\n"
     ]
    }
   ],
   "source": [
    "df_audio = pd.read_csv(audio_meta_dir)\n",
    "print(len(df_audio))\n",
    "df_audio = df_audio[~df_audio[\"train_mp4\"].isin(actually_real_audio)]\n",
    "print(len(df_audio))"
   ]
  },
  {
   "cell_type": "code",
   "execution_count": 7,
   "metadata": {},
   "outputs": [],
   "source": [
    "fake_mp4s = list(df_audio[\"train_mp4\"].values)\n",
    "list.sort(fake_mp4s)"
   ]
  },
  {
   "cell_type": "code",
   "execution_count": 8,
   "metadata": {},
   "outputs": [
    {
     "data": {
      "text/plain": [
       "10152"
      ]
     },
     "execution_count": 8,
     "metadata": {},
     "output_type": "execute_result"
    }
   ],
   "source": [
    "len(fake_mp4s)"
   ]
  },
  {
   "cell_type": "code",
   "execution_count": 9,
   "metadata": {},
   "outputs": [],
   "source": [
    "dict_meta =json.load(open(full_meta_dir,'rb'))"
   ]
  },
  {
   "cell_type": "code",
   "execution_count": 10,
   "metadata": {
    "scrolled": true
   },
   "outputs": [
    {
     "data": {
      "text/plain": [
       "119146"
      ]
     },
     "execution_count": 10,
     "metadata": {},
     "output_type": "execute_result"
    }
   ],
   "source": [
    "len(dict_meta)"
   ]
  },
  {
   "cell_type": "code",
   "execution_count": 11,
   "metadata": {},
   "outputs": [],
   "source": [
    "wavs = list(glob.iglob(\"../dltraining/wavs/*.wav\"))\n",
    "wavs = [x.replace(\"../dltraining/wavs/\",\"\").replace(\".wav\",\".mp4\") for x in wavs]"
   ]
  },
  {
   "cell_type": "code",
   "execution_count": 12,
   "metadata": {
    "scrolled": true
   },
   "outputs": [
    {
     "name": "stderr",
     "output_type": "stream",
     "text": [
      "/opt/anaconda3/lib/python3.7/site-packages/ipykernel_launcher.py:2: TqdmDeprecationWarning: This function will be removed in tqdm==5.0.0\n",
      "Please use `tqdm.notebook.tqdm` instead of `tqdm.tqdm_notebook`\n",
      "  \n"
     ]
    },
    {
     "data": {
      "application/vnd.jupyter.widget-view+json": {
       "model_id": "12a6fe2252d24154961a252c9ee966e7",
       "version_major": 2,
       "version_minor": 0
      },
      "text/plain": [
       "HBox(children=(FloatProgress(value=0.0, max=119146.0), HTML(value='')))"
      ]
     },
     "metadata": {},
     "output_type": "display_data"
    },
    {
     "name": "stdout",
     "output_type": "stream",
     "text": [
      "taqnnsyxip.mp4 {'label': 'FAKE', 'split': 'train', 'original': 'pjibpowymk.mp4', 'data_dir': '/dltraining/datasets/data/dfdc_train_part_5', 'folder_name': 'dfdc_train_part_5'}\n",
      "teehidqtii.mp4 {'label': 'REAL', 'split': 'train', 'data_dir': '/dltraining/datasets/data/dfdc_train_part_5', 'folder_name': 'dfdc_train_part_5'}\n",
      "pjibpowymk.mp4 {'label': 'REAL', 'split': 'train', 'data_dir': '/dltraining/datasets/data/dfdc_train_part_5', 'folder_name': 'dfdc_train_part_5'}\n",
      "inkxxqwrzi.mp4 {'label': 'FAKE', 'split': 'train', 'original': 'teehidqtii.mp4', 'data_dir': '/dltraining/datasets/data/dfdc_train_part_5', 'folder_name': 'dfdc_train_part_5'}\n",
      "clmgkufday.mp4 {'label': 'FAKE', 'split': 'train', 'original': 'uyogufqlec.mp4', 'data_dir': '/dltraining/datasets/data/dfdc_train_part_15', 'folder_name': 'dfdc_train_part_15'}\n",
      "uyogufqlec.mp4 {'label': 'REAL', 'split': 'train', 'data_dir': '/dltraining/datasets/data/dfdc_train_part_15', 'folder_name': 'dfdc_train_part_15'}\n",
      "inluuhjteb.mp4 {'label': 'REAL', 'split': 'train', 'data_dir': '/dltraining/datasets/data/dfdc_train_part_18', 'folder_name': 'dfdc_train_part_18'}\n",
      "qawhqaraxg.mp4 {'label': 'FAKE', 'split': 'train', 'original': 'inluuhjteb.mp4', 'data_dir': '/dltraining/datasets/data/dfdc_train_part_18', 'folder_name': 'dfdc_train_part_18'}\n",
      "afnbrsikom.mp4 {'label': 'REAL', 'split': 'train', 'data_dir': '/dltraining/datasets/data/dfdc_train_part_18', 'folder_name': 'dfdc_train_part_18'}\n",
      "dyxnxclbhg.mp4 {'label': 'FAKE', 'split': 'train', 'original': 'afnbrsikom.mp4', 'data_dir': '/dltraining/datasets/data/dfdc_train_part_18', 'folder_name': 'dfdc_train_part_18'}\n",
      "xqnvbrujjo.mp4 {'label': 'FAKE', 'split': 'train', 'original': 'cozgtibuda.mp4', 'data_dir': '/dltraining/datasets/data/dfdc_train_part_18', 'folder_name': 'dfdc_train_part_18'}\n",
      "strqdkvswm.mp4 {'label': 'FAKE', 'split': 'train', 'original': 'afnbrsikom.mp4', 'data_dir': '/dltraining/datasets/data/dfdc_train_part_18', 'folder_name': 'dfdc_train_part_18'}\n",
      "cozgtibuda.mp4 {'label': 'REAL', 'split': 'train', 'data_dir': '/dltraining/datasets/data/dfdc_train_part_18', 'folder_name': 'dfdc_train_part_18'}\n",
      "qqtoccrfzs.mp4 {'label': 'FAKE', 'split': 'train', 'original': 'inluuhjteb.mp4', 'data_dir': '/dltraining/datasets/data/dfdc_train_part_18', 'folder_name': 'dfdc_train_part_18'}\n",
      "ihqurgivsl.mp4 {'label': 'FAKE', 'split': 'train', 'original': 'urnqalzaon.mp4', 'data_dir': '/dltraining/datasets/data/dfdc_train_part_25', 'folder_name': 'dfdc_train_part_25'}\n",
      "szkoxlypql.mp4 {'label': 'REAL', 'split': 'train', 'data_dir': '/dltraining/datasets/data/dfdc_train_part_25', 'folder_name': 'dfdc_train_part_25'}\n",
      "ggjareyaqd.mp4 {'label': 'FAKE', 'split': 'train', 'original': 'urnqalzaon.mp4', 'data_dir': '/dltraining/datasets/data/dfdc_train_part_25', 'folder_name': 'dfdc_train_part_25'}\n",
      "ykpvzfdqpw.mp4 {'label': 'FAKE', 'split': 'train', 'original': 'szkoxlypql.mp4', 'data_dir': '/dltraining/datasets/data/dfdc_train_part_25', 'folder_name': 'dfdc_train_part_25'}\n",
      "urnqalzaon.mp4 {'label': 'REAL', 'split': 'train', 'data_dir': '/dltraining/datasets/data/dfdc_train_part_25', 'folder_name': 'dfdc_train_part_25'}\n",
      "hycdczdeby.mp4 {'label': 'FAKE', 'split': 'train', 'original': 'wfdlblolif.mp4', 'data_dir': '/dltraining/datasets/data/dfdc_train_part_26', 'folder_name': 'dfdc_train_part_26'}\n",
      "wfdlblolif.mp4 {'label': 'REAL', 'split': 'train', 'data_dir': '/dltraining/datasets/data/dfdc_train_part_26', 'folder_name': 'dfdc_train_part_26'}\n",
      "ctpexqamtx.mp4 {'label': 'FAKE', 'split': 'train', 'original': 'rbvqghnbez.mp4', 'data_dir': '/dltraining/datasets/data/dfdc_train_part_45', 'folder_name': 'dfdc_train_part_45'}\n",
      "rbvqghnbez.mp4 {'label': 'REAL', 'split': 'train', 'data_dir': '/dltraining/datasets/data/dfdc_train_part_45', 'folder_name': 'dfdc_train_part_45'}\n",
      "xsrbccytqi.mp4 {'label': 'FAKE', 'split': 'train', 'original': 'zilqngcakp.mp4', 'data_dir': '/dltraining/datasets/data/dfdc_train_part_29', 'folder_name': 'dfdc_train_part_29'}\n",
      "zilqngcakp.mp4 {'label': 'REAL', 'split': 'train', 'data_dir': '/dltraining/datasets/data/dfdc_train_part_29', 'folder_name': 'dfdc_train_part_29'}\n",
      "vebpwqhssp.mp4 {'label': 'FAKE', 'split': 'train', 'original': 'sxqroedlhr.mp4', 'data_dir': '/dltraining/datasets/data/dfdc_train_part_29', 'folder_name': 'dfdc_train_part_29'}\n",
      "sxqroedlhr.mp4 {'label': 'REAL', 'split': 'train', 'data_dir': '/dltraining/datasets/data/dfdc_train_part_29', 'folder_name': 'dfdc_train_part_29'}\n",
      "wnqlzimgbg.mp4 {'label': 'REAL', 'split': 'train', 'data_dir': '/dltraining/datasets/data/dfdc_train_part_29', 'folder_name': 'dfdc_train_part_29'}\n",
      "rjudlivnao.mp4 {'label': 'FAKE', 'split': 'train', 'original': 'wnqlzimgbg.mp4', 'data_dir': '/dltraining/datasets/data/dfdc_train_part_29', 'folder_name': 'dfdc_train_part_29'}\n",
      "rsvtkzxufe.mp4 {'label': 'FAKE', 'split': 'train', 'original': 'wnqlzimgbg.mp4', 'data_dir': '/dltraining/datasets/data/dfdc_train_part_29', 'folder_name': 'dfdc_train_part_29'}\n",
      "\n"
     ]
    }
   ],
   "source": [
    "no_audio_meta_item = []\n",
    "for key, v in tqdm(dict_meta.items()):\n",
    "    if key not in wavs:\n",
    "        print(key, v)\n",
    "        no_audio_meta_item.append(key)"
   ]
  },
  {
   "cell_type": "code",
   "execution_count": 13,
   "metadata": {},
   "outputs": [],
   "source": [
    "for nami in no_audio_meta_item:\n",
    "    del dict_meta[nami]"
   ]
  },
  {
   "cell_type": "code",
   "execution_count": 14,
   "metadata": {},
   "outputs": [
    {
     "data": {
      "text/plain": [
       "119116"
      ]
     },
     "execution_count": 14,
     "metadata": {},
     "output_type": "execute_result"
    }
   ],
   "source": [
    "len(dict_meta)"
   ]
  },
  {
   "cell_type": "code",
   "execution_count": 15,
   "metadata": {},
   "outputs": [
    {
     "name": "stderr",
     "output_type": "stream",
     "text": [
      "/opt/anaconda3/lib/python3.7/site-packages/ipykernel_launcher.py:1: TqdmDeprecationWarning: This function will be removed in tqdm==5.0.0\n",
      "Please use `tqdm.notebook.tqdm` instead of `tqdm.tqdm_notebook`\n",
      "  \"\"\"Entry point for launching an IPython kernel.\n"
     ]
    },
    {
     "data": {
      "application/vnd.jupyter.widget-view+json": {
       "model_id": "e567e369147c4dc9854c52f7af8d3260",
       "version_major": 2,
       "version_minor": 0
      },
      "text/plain": [
       "HBox(children=(FloatProgress(value=0.0, max=119116.0), HTML(value='')))"
      ]
     },
     "metadata": {},
     "output_type": "display_data"
    },
    {
     "name": "stdout",
     "output_type": "stream",
     "text": [
      "\n"
     ]
    }
   ],
   "source": [
    "for key, value in tqdm(dict_meta.items()):\n",
    "    if key in fake_mp4s:\n",
    "        value['audio_label'] = 'FAKE' \n",
    "        dict_meta[key] =value\n",
    "    else:\n",
    "        value['audio_label'] = 'REAL' \n",
    "        dict_meta[key] =value"
   ]
  },
  {
   "cell_type": "code",
   "execution_count": 16,
   "metadata": {
    "scrolled": true
   },
   "outputs": [],
   "source": [
    "dump_json(dict_meta, \"full_audio_meta.json\")"
   ]
  },
  {
   "cell_type": "code",
   "execution_count": 17,
   "metadata": {},
   "outputs": [],
   "source": [
    "train_num = math.ceil(len(fake_mp4s)*0.8)"
   ]
  },
  {
   "cell_type": "code",
   "execution_count": 18,
   "metadata": {},
   "outputs": [
    {
     "data": {
      "text/plain": [
       "(8122, 2030)"
      ]
     },
     "execution_count": 18,
     "metadata": {},
     "output_type": "execute_result"
    }
   ],
   "source": [
    "training_fake_mp4s = fake_mp4s[0:train_num]\n",
    "valid_fake_mp4s = fake_mp4s[train_num:]\n",
    "len(training_fake_mp4s), len(valid_fake_mp4s)"
   ]
  },
  {
   "cell_type": "code",
   "execution_count": 19,
   "metadata": {},
   "outputs": [],
   "source": [
    "all_meta_mp4s = list(dict_meta.keys())"
   ]
  },
  {
   "cell_type": "code",
   "execution_count": 20,
   "metadata": {},
   "outputs": [],
   "source": [
    "real_mp4s = list(set(all_meta_mp4s)-set(training_fake_mp4s)-set(valid_fake_mp4s))"
   ]
  },
  {
   "cell_type": "code",
   "execution_count": 21,
   "metadata": {},
   "outputs": [],
   "source": [
    "num_valid = len(valid_fake_mp4s)\n",
    "valid_real_mp4s = random.sample(real_mp4s,num_valid)\n",
    "train_real_mp4s = list(set(real_mp4s)-set(valid_real_mp4s))"
   ]
  },
  {
   "cell_type": "code",
   "execution_count": 22,
   "metadata": {},
   "outputs": [],
   "source": [
    "valid_mp4s = valid_real_mp4s + valid_fake_mp4s\n",
    "train_mp4s = train_real_mp4s + training_fake_mp4s"
   ]
  },
  {
   "cell_type": "code",
   "execution_count": 23,
   "metadata": {},
   "outputs": [
    {
     "data": {
      "text/plain": [
       "(4060, 115056)"
      ]
     },
     "execution_count": 23,
     "metadata": {},
     "output_type": "execute_result"
    }
   ],
   "source": [
    "len(valid_mp4s),len(train_mp4s)"
   ]
  },
  {
   "cell_type": "code",
   "execution_count": 24,
   "metadata": {},
   "outputs": [
    {
     "name": "stderr",
     "output_type": "stream",
     "text": [
      "/opt/anaconda3/lib/python3.7/site-packages/ipykernel_launcher.py:2: TqdmDeprecationWarning: This function will be removed in tqdm==5.0.0\n",
      "Please use `tqdm.notebook.tqdm` instead of `tqdm.tqdm_notebook`\n",
      "  \n"
     ]
    },
    {
     "data": {
      "application/vnd.jupyter.widget-view+json": {
       "model_id": "a97d54a39b6e4e0f88eee45a7eac61f4",
       "version_major": 2,
       "version_minor": 0
      },
      "text/plain": [
       "HBox(children=(FloatProgress(value=0.0, max=119116.0), HTML(value='')))"
      ]
     },
     "metadata": {},
     "output_type": "display_data"
    },
    {
     "name": "stdout",
     "output_type": "stream",
     "text": [
      "\n"
     ]
    }
   ],
   "source": [
    "dict_train_meta = {}\n",
    "for key, value in tqdm(dict_meta.items()):\n",
    "    if key in train_mp4s:\n",
    "        dict_train_meta[key] = value"
   ]
  },
  {
   "cell_type": "code",
   "execution_count": 25,
   "metadata": {},
   "outputs": [
    {
     "name": "stderr",
     "output_type": "stream",
     "text": [
      "/opt/anaconda3/lib/python3.7/site-packages/ipykernel_launcher.py:2: TqdmDeprecationWarning: This function will be removed in tqdm==5.0.0\n",
      "Please use `tqdm.notebook.tqdm` instead of `tqdm.tqdm_notebook`\n",
      "  \n"
     ]
    },
    {
     "data": {
      "application/vnd.jupyter.widget-view+json": {
       "model_id": "b2dff36b89194a258acf164c133be89b",
       "version_major": 2,
       "version_minor": 0
      },
      "text/plain": [
       "HBox(children=(FloatProgress(value=0.0, max=119116.0), HTML(value='')))"
      ]
     },
     "metadata": {},
     "output_type": "display_data"
    },
    {
     "name": "stdout",
     "output_type": "stream",
     "text": [
      "\n"
     ]
    }
   ],
   "source": [
    "dict_valid_meta = {}\n",
    "for key, value in tqdm(dict_meta.items()):\n",
    "    if key in valid_mp4s:\n",
    "        dict_valid_meta[key] = value"
   ]
  },
  {
   "cell_type": "code",
   "execution_count": 26,
   "metadata": {},
   "outputs": [
    {
     "data": {
      "text/plain": [
       "(115056, 4060)"
      ]
     },
     "execution_count": 26,
     "metadata": {},
     "output_type": "execute_result"
    }
   ],
   "source": [
    "len(dict_train_meta), len(dict_valid_meta)"
   ]
  },
  {
   "cell_type": "code",
   "execution_count": 27,
   "metadata": {},
   "outputs": [],
   "source": [
    "dump_json(dict_train_meta, \"train_audio_meta.json\")\n",
    "dump_json(dict_valid_meta, \"valid_audio_meta.json\")"
   ]
  },
  {
   "cell_type": "code",
   "execution_count": null,
   "metadata": {},
   "outputs": [],
   "source": []
  }
 ],
 "metadata": {
  "kernelspec": {
   "display_name": "Python 3",
   "language": "python",
   "name": "python3"
  },
  "language_info": {
   "codemirror_mode": {
    "name": "ipython",
    "version": 3
   },
   "file_extension": ".py",
   "mimetype": "text/x-python",
   "name": "python",
   "nbconvert_exporter": "python",
   "pygments_lexer": "ipython3",
   "version": "3.7.4"
  }
 },
 "nbformat": 4,
 "nbformat_minor": 2
}
